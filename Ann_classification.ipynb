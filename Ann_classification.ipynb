{
  "nbformat": 4,
  "nbformat_minor": 0,
  "metadata": {
    "colab": {
      "name": "Ann.classification.ipynb",
      "provenance": [],
      "collapsed_sections": []
    },
    "kernelspec": {
      "name": "python3",
      "display_name": "Python 3"
    }
  },
  "cells": [
    {
      "cell_type": "code",
      "metadata": {
        "id": "w1Z0ge6q3QEp",
        "colab_type": "code",
        "colab": {
          "base_uri": "https://localhost:8080/",
          "height": 34
        },
        "outputId": "7d53877e-ffac-43ae-b7ae-ceae4bab37ee"
      },
      "source": [
        "print(\"hello hars\")"
      ],
      "execution_count": 99,
      "outputs": [
        {
          "output_type": "stream",
          "text": [
            "hello hars\n"
          ],
          "name": "stdout"
        }
      ]
    },
    {
      "cell_type": "markdown",
      "metadata": {
        "id": "sdlR4VxRCmT3",
        "colab_type": "text"
      },
      "source": [
        "in this code we have tot 30 input nurons and we have 1 out put nuron it is binary type because we have to predict weather cancer is there or not\n",
        "we are taking hidden layers as 16 how we are taking explained below\n",
        "\n"
      ]
    },
    {
      "cell_type": "code",
      "metadata": {
        "id": "EHu5xHhECcJy",
        "colab_type": "code",
        "colab": {}
      },
      "source": [
        ""
      ],
      "execution_count": null,
      "outputs": []
    },
    {
      "cell_type": "code",
      "metadata": {
        "id": "SfqC4EuT4jl7",
        "colab_type": "code",
        "colab": {
          "resources": {
            "http://localhost:8080/nbextensions/google.colab/files.js": {
              "data": "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",
              "ok": true,
              "headers": [
                [
                  "content-type",
                  "application/javascript"
                ]
              ],
              "status": 200,
              "status_text": ""
            }
          },
          "base_uri": "https://localhost:8080/",
          "height": 89
        },
        "outputId": "8bf97a32-ebc9-4aa8-f270-619868df12a5"
      },
      "source": [
        "from google.colab import files  #this code is extracted from google colab source to extract our file\n",
        "\n",
        "uploaded = files.upload()\n",
        "\n",
        "for fn in uploaded.keys():\n",
        "  print('User uploaded file \"{name}\" with length {length} bytes'.format(\n",
        "      name=fn, length=len(uploaded[fn])))"
      ],
      "execution_count": 100,
      "outputs": [
        {
          "output_type": "display_data",
          "data": {
            "text/html": [
              "\n",
              "     <input type=\"file\" id=\"files-10a7c4f2-a680-4e3a-b97c-7210fa3b9b53\" name=\"files[]\" multiple disabled\n",
              "        style=\"border:none\" />\n",
              "     <output id=\"result-10a7c4f2-a680-4e3a-b97c-7210fa3b9b53\">\n",
              "      Upload widget is only available when the cell has been executed in the\n",
              "      current browser session. Please rerun this cell to enable.\n",
              "      </output>\n",
              "      <script src=\"/nbextensions/google.colab/files.js\"></script> "
            ],
            "text/plain": [
              "<IPython.core.display.HTML object>"
            ]
          },
          "metadata": {
            "tags": []
          }
        },
        {
          "output_type": "stream",
          "text": [
            "Saving data8.csv to data8 (2).csv\n",
            "User uploaded file \"data8.csv\" with length 125204 bytes\n"
          ],
          "name": "stdout"
        }
      ]
    },
    {
      "cell_type": "code",
      "metadata": {
        "id": "E5C9exIG5Kqf",
        "colab_type": "code",
        "colab": {
          "base_uri": "https://localhost:8080/",
          "height": 241
        },
        "outputId": "72611b2b-55ff-479a-e509-2eb85a38f6d8"
      },
      "source": [
        "import pandas as pd   #he has done like this\n",
        "import io\n",
        "data=pd.read_csv(io.StringIO(uploaded['data8.csv'].decode('utf-8')))\n",
        "data.head()"
      ],
      "execution_count": 101,
      "outputs": [
        {
          "output_type": "execute_result",
          "data": {
            "text/html": [
              "<div>\n",
              "<style scoped>\n",
              "    .dataframe tbody tr th:only-of-type {\n",
              "        vertical-align: middle;\n",
              "    }\n",
              "\n",
              "    .dataframe tbody tr th {\n",
              "        vertical-align: top;\n",
              "    }\n",
              "\n",
              "    .dataframe thead th {\n",
              "        text-align: right;\n",
              "    }\n",
              "</style>\n",
              "<table border=\"1\" class=\"dataframe\">\n",
              "  <thead>\n",
              "    <tr style=\"text-align: right;\">\n",
              "      <th></th>\n",
              "      <th>id</th>\n",
              "      <th>diagnosis</th>\n",
              "      <th>radius_mean</th>\n",
              "      <th>texture_mean</th>\n",
              "      <th>perimeter_mean</th>\n",
              "      <th>area_mean</th>\n",
              "      <th>smoothness_mean</th>\n",
              "      <th>compactness_mean</th>\n",
              "      <th>concavity_mean</th>\n",
              "      <th>concave points_mean</th>\n",
              "      <th>symmetry_mean</th>\n",
              "      <th>fractal_dimension_mean</th>\n",
              "      <th>radius_se</th>\n",
              "      <th>texture_se</th>\n",
              "      <th>perimeter_se</th>\n",
              "      <th>area_se</th>\n",
              "      <th>smoothness_se</th>\n",
              "      <th>compactness_se</th>\n",
              "      <th>concavity_se</th>\n",
              "      <th>concave points_se</th>\n",
              "      <th>symmetry_se</th>\n",
              "      <th>fractal_dimension_se</th>\n",
              "      <th>radius_worst</th>\n",
              "      <th>texture_worst</th>\n",
              "      <th>perimeter_worst</th>\n",
              "      <th>area_worst</th>\n",
              "      <th>smoothness_worst</th>\n",
              "      <th>compactness_worst</th>\n",
              "      <th>concavity_worst</th>\n",
              "      <th>concave points_worst</th>\n",
              "      <th>symmetry_worst</th>\n",
              "      <th>fractal_dimension_worst</th>\n",
              "      <th>Unnamed: 32</th>\n",
              "    </tr>\n",
              "  </thead>\n",
              "  <tbody>\n",
              "    <tr>\n",
              "      <th>0</th>\n",
              "      <td>842302</td>\n",
              "      <td>M</td>\n",
              "      <td>17.99</td>\n",
              "      <td>10.38</td>\n",
              "      <td>122.80</td>\n",
              "      <td>1001.0</td>\n",
              "      <td>0.11840</td>\n",
              "      <td>0.27760</td>\n",
              "      <td>0.3001</td>\n",
              "      <td>0.14710</td>\n",
              "      <td>0.2419</td>\n",
              "      <td>0.07871</td>\n",
              "      <td>1.0950</td>\n",
              "      <td>0.9053</td>\n",
              "      <td>8.589</td>\n",
              "      <td>153.40</td>\n",
              "      <td>0.006399</td>\n",
              "      <td>0.04904</td>\n",
              "      <td>0.05373</td>\n",
              "      <td>0.01587</td>\n",
              "      <td>0.03003</td>\n",
              "      <td>0.006193</td>\n",
              "      <td>25.38</td>\n",
              "      <td>17.33</td>\n",
              "      <td>184.60</td>\n",
              "      <td>2019.0</td>\n",
              "      <td>0.1622</td>\n",
              "      <td>0.6656</td>\n",
              "      <td>0.7119</td>\n",
              "      <td>0.2654</td>\n",
              "      <td>0.4601</td>\n",
              "      <td>0.11890</td>\n",
              "      <td>NaN</td>\n",
              "    </tr>\n",
              "    <tr>\n",
              "      <th>1</th>\n",
              "      <td>842517</td>\n",
              "      <td>M</td>\n",
              "      <td>20.57</td>\n",
              "      <td>17.77</td>\n",
              "      <td>132.90</td>\n",
              "      <td>1326.0</td>\n",
              "      <td>0.08474</td>\n",
              "      <td>0.07864</td>\n",
              "      <td>0.0869</td>\n",
              "      <td>0.07017</td>\n",
              "      <td>0.1812</td>\n",
              "      <td>0.05667</td>\n",
              "      <td>0.5435</td>\n",
              "      <td>0.7339</td>\n",
              "      <td>3.398</td>\n",
              "      <td>74.08</td>\n",
              "      <td>0.005225</td>\n",
              "      <td>0.01308</td>\n",
              "      <td>0.01860</td>\n",
              "      <td>0.01340</td>\n",
              "      <td>0.01389</td>\n",
              "      <td>0.003532</td>\n",
              "      <td>24.99</td>\n",
              "      <td>23.41</td>\n",
              "      <td>158.80</td>\n",
              "      <td>1956.0</td>\n",
              "      <td>0.1238</td>\n",
              "      <td>0.1866</td>\n",
              "      <td>0.2416</td>\n",
              "      <td>0.1860</td>\n",
              "      <td>0.2750</td>\n",
              "      <td>0.08902</td>\n",
              "      <td>NaN</td>\n",
              "    </tr>\n",
              "    <tr>\n",
              "      <th>2</th>\n",
              "      <td>84300903</td>\n",
              "      <td>M</td>\n",
              "      <td>19.69</td>\n",
              "      <td>21.25</td>\n",
              "      <td>130.00</td>\n",
              "      <td>1203.0</td>\n",
              "      <td>0.10960</td>\n",
              "      <td>0.15990</td>\n",
              "      <td>0.1974</td>\n",
              "      <td>0.12790</td>\n",
              "      <td>0.2069</td>\n",
              "      <td>0.05999</td>\n",
              "      <td>0.7456</td>\n",
              "      <td>0.7869</td>\n",
              "      <td>4.585</td>\n",
              "      <td>94.03</td>\n",
              "      <td>0.006150</td>\n",
              "      <td>0.04006</td>\n",
              "      <td>0.03832</td>\n",
              "      <td>0.02058</td>\n",
              "      <td>0.02250</td>\n",
              "      <td>0.004571</td>\n",
              "      <td>23.57</td>\n",
              "      <td>25.53</td>\n",
              "      <td>152.50</td>\n",
              "      <td>1709.0</td>\n",
              "      <td>0.1444</td>\n",
              "      <td>0.4245</td>\n",
              "      <td>0.4504</td>\n",
              "      <td>0.2430</td>\n",
              "      <td>0.3613</td>\n",
              "      <td>0.08758</td>\n",
              "      <td>NaN</td>\n",
              "    </tr>\n",
              "    <tr>\n",
              "      <th>3</th>\n",
              "      <td>84348301</td>\n",
              "      <td>M</td>\n",
              "      <td>11.42</td>\n",
              "      <td>20.38</td>\n",
              "      <td>77.58</td>\n",
              "      <td>386.1</td>\n",
              "      <td>0.14250</td>\n",
              "      <td>0.28390</td>\n",
              "      <td>0.2414</td>\n",
              "      <td>0.10520</td>\n",
              "      <td>0.2597</td>\n",
              "      <td>0.09744</td>\n",
              "      <td>0.4956</td>\n",
              "      <td>1.1560</td>\n",
              "      <td>3.445</td>\n",
              "      <td>27.23</td>\n",
              "      <td>0.009110</td>\n",
              "      <td>0.07458</td>\n",
              "      <td>0.05661</td>\n",
              "      <td>0.01867</td>\n",
              "      <td>0.05963</td>\n",
              "      <td>0.009208</td>\n",
              "      <td>14.91</td>\n",
              "      <td>26.50</td>\n",
              "      <td>98.87</td>\n",
              "      <td>567.7</td>\n",
              "      <td>0.2098</td>\n",
              "      <td>0.8663</td>\n",
              "      <td>0.6869</td>\n",
              "      <td>0.2575</td>\n",
              "      <td>0.6638</td>\n",
              "      <td>0.17300</td>\n",
              "      <td>NaN</td>\n",
              "    </tr>\n",
              "    <tr>\n",
              "      <th>4</th>\n",
              "      <td>84358402</td>\n",
              "      <td>M</td>\n",
              "      <td>20.29</td>\n",
              "      <td>14.34</td>\n",
              "      <td>135.10</td>\n",
              "      <td>1297.0</td>\n",
              "      <td>0.10030</td>\n",
              "      <td>0.13280</td>\n",
              "      <td>0.1980</td>\n",
              "      <td>0.10430</td>\n",
              "      <td>0.1809</td>\n",
              "      <td>0.05883</td>\n",
              "      <td>0.7572</td>\n",
              "      <td>0.7813</td>\n",
              "      <td>5.438</td>\n",
              "      <td>94.44</td>\n",
              "      <td>0.011490</td>\n",
              "      <td>0.02461</td>\n",
              "      <td>0.05688</td>\n",
              "      <td>0.01885</td>\n",
              "      <td>0.01756</td>\n",
              "      <td>0.005115</td>\n",
              "      <td>22.54</td>\n",
              "      <td>16.67</td>\n",
              "      <td>152.20</td>\n",
              "      <td>1575.0</td>\n",
              "      <td>0.1374</td>\n",
              "      <td>0.2050</td>\n",
              "      <td>0.4000</td>\n",
              "      <td>0.1625</td>\n",
              "      <td>0.2364</td>\n",
              "      <td>0.07678</td>\n",
              "      <td>NaN</td>\n",
              "    </tr>\n",
              "  </tbody>\n",
              "</table>\n",
              "</div>"
            ],
            "text/plain": [
              "         id diagnosis  ...  fractal_dimension_worst  Unnamed: 32\n",
              "0    842302         M  ...                  0.11890          NaN\n",
              "1    842517         M  ...                  0.08902          NaN\n",
              "2  84300903         M  ...                  0.08758          NaN\n",
              "3  84348301         M  ...                  0.17300          NaN\n",
              "4  84358402         M  ...                  0.07678          NaN\n",
              "\n",
              "[5 rows x 33 columns]"
            ]
          },
          "metadata": {
            "tags": []
          },
          "execution_count": 101
        }
      ]
    },
    {
      "cell_type": "code",
      "metadata": {
        "id": "AmE_vaSa5cwD",
        "colab_type": "code",
        "colab": {
          "base_uri": "https://localhost:8080/",
          "height": 241
        },
        "outputId": "db281c59-217b-4aa5-f97b-84a7b7b0e6cf"
      },
      "source": [
        "import pandas as pd   #own\n",
        "import io\n",
        "data=pd.read_csv('data8.csv')\n",
        "data.head()"
      ],
      "execution_count": 102,
      "outputs": [
        {
          "output_type": "execute_result",
          "data": {
            "text/html": [
              "<div>\n",
              "<style scoped>\n",
              "    .dataframe tbody tr th:only-of-type {\n",
              "        vertical-align: middle;\n",
              "    }\n",
              "\n",
              "    .dataframe tbody tr th {\n",
              "        vertical-align: top;\n",
              "    }\n",
              "\n",
              "    .dataframe thead th {\n",
              "        text-align: right;\n",
              "    }\n",
              "</style>\n",
              "<table border=\"1\" class=\"dataframe\">\n",
              "  <thead>\n",
              "    <tr style=\"text-align: right;\">\n",
              "      <th></th>\n",
              "      <th>id</th>\n",
              "      <th>diagnosis</th>\n",
              "      <th>radius_mean</th>\n",
              "      <th>texture_mean</th>\n",
              "      <th>perimeter_mean</th>\n",
              "      <th>area_mean</th>\n",
              "      <th>smoothness_mean</th>\n",
              "      <th>compactness_mean</th>\n",
              "      <th>concavity_mean</th>\n",
              "      <th>concave points_mean</th>\n",
              "      <th>symmetry_mean</th>\n",
              "      <th>fractal_dimension_mean</th>\n",
              "      <th>radius_se</th>\n",
              "      <th>texture_se</th>\n",
              "      <th>perimeter_se</th>\n",
              "      <th>area_se</th>\n",
              "      <th>smoothness_se</th>\n",
              "      <th>compactness_se</th>\n",
              "      <th>concavity_se</th>\n",
              "      <th>concave points_se</th>\n",
              "      <th>symmetry_se</th>\n",
              "      <th>fractal_dimension_se</th>\n",
              "      <th>radius_worst</th>\n",
              "      <th>texture_worst</th>\n",
              "      <th>perimeter_worst</th>\n",
              "      <th>area_worst</th>\n",
              "      <th>smoothness_worst</th>\n",
              "      <th>compactness_worst</th>\n",
              "      <th>concavity_worst</th>\n",
              "      <th>concave points_worst</th>\n",
              "      <th>symmetry_worst</th>\n",
              "      <th>fractal_dimension_worst</th>\n",
              "      <th>Unnamed: 32</th>\n",
              "    </tr>\n",
              "  </thead>\n",
              "  <tbody>\n",
              "    <tr>\n",
              "      <th>0</th>\n",
              "      <td>842302</td>\n",
              "      <td>M</td>\n",
              "      <td>17.99</td>\n",
              "      <td>10.38</td>\n",
              "      <td>122.80</td>\n",
              "      <td>1001.0</td>\n",
              "      <td>0.11840</td>\n",
              "      <td>0.27760</td>\n",
              "      <td>0.3001</td>\n",
              "      <td>0.14710</td>\n",
              "      <td>0.2419</td>\n",
              "      <td>0.07871</td>\n",
              "      <td>1.0950</td>\n",
              "      <td>0.9053</td>\n",
              "      <td>8.589</td>\n",
              "      <td>153.40</td>\n",
              "      <td>0.006399</td>\n",
              "      <td>0.04904</td>\n",
              "      <td>0.05373</td>\n",
              "      <td>0.01587</td>\n",
              "      <td>0.03003</td>\n",
              "      <td>0.006193</td>\n",
              "      <td>25.38</td>\n",
              "      <td>17.33</td>\n",
              "      <td>184.60</td>\n",
              "      <td>2019.0</td>\n",
              "      <td>0.1622</td>\n",
              "      <td>0.6656</td>\n",
              "      <td>0.7119</td>\n",
              "      <td>0.2654</td>\n",
              "      <td>0.4601</td>\n",
              "      <td>0.11890</td>\n",
              "      <td>NaN</td>\n",
              "    </tr>\n",
              "    <tr>\n",
              "      <th>1</th>\n",
              "      <td>842517</td>\n",
              "      <td>M</td>\n",
              "      <td>20.57</td>\n",
              "      <td>17.77</td>\n",
              "      <td>132.90</td>\n",
              "      <td>1326.0</td>\n",
              "      <td>0.08474</td>\n",
              "      <td>0.07864</td>\n",
              "      <td>0.0869</td>\n",
              "      <td>0.07017</td>\n",
              "      <td>0.1812</td>\n",
              "      <td>0.05667</td>\n",
              "      <td>0.5435</td>\n",
              "      <td>0.7339</td>\n",
              "      <td>3.398</td>\n",
              "      <td>74.08</td>\n",
              "      <td>0.005225</td>\n",
              "      <td>0.01308</td>\n",
              "      <td>0.01860</td>\n",
              "      <td>0.01340</td>\n",
              "      <td>0.01389</td>\n",
              "      <td>0.003532</td>\n",
              "      <td>24.99</td>\n",
              "      <td>23.41</td>\n",
              "      <td>158.80</td>\n",
              "      <td>1956.0</td>\n",
              "      <td>0.1238</td>\n",
              "      <td>0.1866</td>\n",
              "      <td>0.2416</td>\n",
              "      <td>0.1860</td>\n",
              "      <td>0.2750</td>\n",
              "      <td>0.08902</td>\n",
              "      <td>NaN</td>\n",
              "    </tr>\n",
              "    <tr>\n",
              "      <th>2</th>\n",
              "      <td>84300903</td>\n",
              "      <td>M</td>\n",
              "      <td>19.69</td>\n",
              "      <td>21.25</td>\n",
              "      <td>130.00</td>\n",
              "      <td>1203.0</td>\n",
              "      <td>0.10960</td>\n",
              "      <td>0.15990</td>\n",
              "      <td>0.1974</td>\n",
              "      <td>0.12790</td>\n",
              "      <td>0.2069</td>\n",
              "      <td>0.05999</td>\n",
              "      <td>0.7456</td>\n",
              "      <td>0.7869</td>\n",
              "      <td>4.585</td>\n",
              "      <td>94.03</td>\n",
              "      <td>0.006150</td>\n",
              "      <td>0.04006</td>\n",
              "      <td>0.03832</td>\n",
              "      <td>0.02058</td>\n",
              "      <td>0.02250</td>\n",
              "      <td>0.004571</td>\n",
              "      <td>23.57</td>\n",
              "      <td>25.53</td>\n",
              "      <td>152.50</td>\n",
              "      <td>1709.0</td>\n",
              "      <td>0.1444</td>\n",
              "      <td>0.4245</td>\n",
              "      <td>0.4504</td>\n",
              "      <td>0.2430</td>\n",
              "      <td>0.3613</td>\n",
              "      <td>0.08758</td>\n",
              "      <td>NaN</td>\n",
              "    </tr>\n",
              "    <tr>\n",
              "      <th>3</th>\n",
              "      <td>84348301</td>\n",
              "      <td>M</td>\n",
              "      <td>11.42</td>\n",
              "      <td>20.38</td>\n",
              "      <td>77.58</td>\n",
              "      <td>386.1</td>\n",
              "      <td>0.14250</td>\n",
              "      <td>0.28390</td>\n",
              "      <td>0.2414</td>\n",
              "      <td>0.10520</td>\n",
              "      <td>0.2597</td>\n",
              "      <td>0.09744</td>\n",
              "      <td>0.4956</td>\n",
              "      <td>1.1560</td>\n",
              "      <td>3.445</td>\n",
              "      <td>27.23</td>\n",
              "      <td>0.009110</td>\n",
              "      <td>0.07458</td>\n",
              "      <td>0.05661</td>\n",
              "      <td>0.01867</td>\n",
              "      <td>0.05963</td>\n",
              "      <td>0.009208</td>\n",
              "      <td>14.91</td>\n",
              "      <td>26.50</td>\n",
              "      <td>98.87</td>\n",
              "      <td>567.7</td>\n",
              "      <td>0.2098</td>\n",
              "      <td>0.8663</td>\n",
              "      <td>0.6869</td>\n",
              "      <td>0.2575</td>\n",
              "      <td>0.6638</td>\n",
              "      <td>0.17300</td>\n",
              "      <td>NaN</td>\n",
              "    </tr>\n",
              "    <tr>\n",
              "      <th>4</th>\n",
              "      <td>84358402</td>\n",
              "      <td>M</td>\n",
              "      <td>20.29</td>\n",
              "      <td>14.34</td>\n",
              "      <td>135.10</td>\n",
              "      <td>1297.0</td>\n",
              "      <td>0.10030</td>\n",
              "      <td>0.13280</td>\n",
              "      <td>0.1980</td>\n",
              "      <td>0.10430</td>\n",
              "      <td>0.1809</td>\n",
              "      <td>0.05883</td>\n",
              "      <td>0.7572</td>\n",
              "      <td>0.7813</td>\n",
              "      <td>5.438</td>\n",
              "      <td>94.44</td>\n",
              "      <td>0.011490</td>\n",
              "      <td>0.02461</td>\n",
              "      <td>0.05688</td>\n",
              "      <td>0.01885</td>\n",
              "      <td>0.01756</td>\n",
              "      <td>0.005115</td>\n",
              "      <td>22.54</td>\n",
              "      <td>16.67</td>\n",
              "      <td>152.20</td>\n",
              "      <td>1575.0</td>\n",
              "      <td>0.1374</td>\n",
              "      <td>0.2050</td>\n",
              "      <td>0.4000</td>\n",
              "      <td>0.1625</td>\n",
              "      <td>0.2364</td>\n",
              "      <td>0.07678</td>\n",
              "      <td>NaN</td>\n",
              "    </tr>\n",
              "  </tbody>\n",
              "</table>\n",
              "</div>"
            ],
            "text/plain": [
              "         id diagnosis  ...  fractal_dimension_worst  Unnamed: 32\n",
              "0    842302         M  ...                  0.11890          NaN\n",
              "1    842517         M  ...                  0.08902          NaN\n",
              "2  84300903         M  ...                  0.08758          NaN\n",
              "3  84348301         M  ...                  0.17300          NaN\n",
              "4  84358402         M  ...                  0.07678          NaN\n",
              "\n",
              "[5 rows x 33 columns]"
            ]
          },
          "metadata": {
            "tags": []
          },
          "execution_count": 102
        }
      ]
    },
    {
      "cell_type": "code",
      "metadata": {
        "id": "7eG2Bbo2-tff",
        "colab_type": "code",
        "colab": {
          "base_uri": "https://localhost:8080/",
          "height": 578
        },
        "outputId": "29f4ee55-b085-4bab-a4d7-7e821eb36b91"
      },
      "source": [
        "data.dtypes"
      ],
      "execution_count": 98,
      "outputs": [
        {
          "output_type": "execute_result",
          "data": {
            "text/plain": [
              "id                           int64\n",
              "diagnosis                   object\n",
              "radius_mean                float64\n",
              "texture_mean               float64\n",
              "perimeter_mean             float64\n",
              "area_mean                  float64\n",
              "smoothness_mean            float64\n",
              "compactness_mean           float64\n",
              "concavity_mean             float64\n",
              "concave points_mean        float64\n",
              "symmetry_mean              float64\n",
              "fractal_dimension_mean     float64\n",
              "radius_se                  float64\n",
              "texture_se                 float64\n",
              "perimeter_se               float64\n",
              "area_se                    float64\n",
              "smoothness_se              float64\n",
              "compactness_se             float64\n",
              "concavity_se               float64\n",
              "concave points_se          float64\n",
              "symmetry_se                float64\n",
              "fractal_dimension_se       float64\n",
              "radius_worst               float64\n",
              "texture_worst              float64\n",
              "perimeter_worst            float64\n",
              "area_worst                 float64\n",
              "smoothness_worst           float64\n",
              "compactness_worst          float64\n",
              "concavity_worst            float64\n",
              "concave points_worst       float64\n",
              "symmetry_worst             float64\n",
              "fractal_dimension_worst    float64\n",
              "dtype: object"
            ]
          },
          "metadata": {
            "tags": []
          },
          "execution_count": 98
        }
      ]
    },
    {
      "cell_type": "code",
      "metadata": {
        "id": "s1oBRKC86ebI",
        "colab_type": "code",
        "colab": {
          "base_uri": "https://localhost:8080/",
          "height": 313
        },
        "outputId": "8f63ef52-11f3-443f-a936-aff6a3b69eb6"
      },
      "source": [
        "#this is data is about breast cancer to know qty of benign and maligant cancer \n",
        "import seaborn as sns\n",
        "ax=sns.countplot(data['diagnosis'],label='count')     #for visualaization\n",
        "B,M=data['diagnosis'].value_counts()\n",
        "print(\"Benign\",B)                                      #printing qty\n",
        "print(\"Malignant\",M)"
      ],
      "execution_count": 103,
      "outputs": [
        {
          "output_type": "stream",
          "text": [
            "Benign 357\n",
            "Malignant 212\n"
          ],
          "name": "stdout"
        },
        {
          "output_type": "display_data",
          "data": {
            "image/png": "[encoded data removed]",
            "text/plain": [
              "<Figure size 432x288 with 1 Axes>"
            ]
          },
          "metadata": {
            "tags": [],
            "needs_background": "light"
          }
        }
      ]
    },
    {
      "cell_type": "code",
      "metadata": {
        "id": "sO1O9IXi6ee6",
        "colab_type": "code",
        "colab": {}
      },
      "source": [
        "#in our data a unknown atribute(means column which do not contain any informination (see last column))\n",
        "import numpy as np\n",
        "import matplotlib.pyplot as plt\n",
        "\n",
        "del data['Unnamed: 32']  #column name only unknown:32"
      ],
      "execution_count": 104,
      "outputs": []
    },
    {
      "cell_type": "code",
      "metadata": {
        "id": "7yxm0twr6e1B",
        "colab_type": "code",
        "colab": {}
      },
      "source": [
        "x=data.iloc[:,2:]   #here x(input) is indipendent variable column is o/p so we are extracting all the column except 1st\n",
        "y=data.iloc[:,1]    #here y is(o/p) is dependent variable that is based on input it tells wheather a person has cacner or not\n",
        "#our o/p is catagorical type like benign and maliganant to convert this into numerical form we use label encoding ex:-- benign=0,malignant=1\n",
        "from sklearn.preprocessing import LabelEncoder\n",
        "labelencoder_x_1=LabelEncoder()  \n",
        "y=labelencoder_x_1.fit_transform(y)\n",
        "#splitting\n",
        "from sklearn.model_selection import train_test_split\n",
        "x_train,x_test,y_train,y_test=train_test_split(x,y,test_size=0.1,random_state=0)\n",
        "#feature scaling:-- our range of i/p is diffrent for diffrent columns so to bring all column values to a common scale we use this\n",
        "from sklearn.preprocessing import StandardScaler\n",
        "sc=StandardScaler()\n",
        "x_train=sc.fit_transform(x_train)\n",
        "x_test=sc.transform(x_test)"
      ],
      "execution_count": 105,
      "outputs": []
    },
    {
      "cell_type": "code",
      "metadata": {
        "id": "fCffJ7pN6e3C",
        "colab_type": "code",
        "colab": {
          "base_uri": "https://localhost:8080/",
          "height": 238
        },
        "outputId": "5cec3c5b-ce59-436f-c2f3-3952a324728f"
      },
      "source": [
        "x_train    #see range is +1 to -1"
      ],
      "execution_count": 106,
      "outputs": [
        {
          "output_type": "execute_result",
          "data": {
            "text/plain": [
              "array([[-0.52787029,  2.49821982, -0.59939466, ..., -1.74713139,\n",
              "        -0.79044533, -0.91054389],\n",
              "       [-0.55333608,  0.29431013, -0.60759343, ..., -0.62275667,\n",
              "        -0.33646358, -0.83551633],\n",
              "       [ 2.15452653,  0.40392257,  2.26525805, ...,  1.03846122,\n",
              "        -0.11504791,  0.26488788],\n",
              "       ...,\n",
              "       [-1.3297598 , -0.21876938, -1.32088704, ..., -0.98271999,\n",
              "        -0.718764  , -0.13637062],\n",
              "       [-1.24940108, -0.24209117, -1.2835826 , ..., -1.74713139,\n",
              "        -1.58690456, -1.01280367],\n",
              "       [-0.74291476,  1.08958336, -0.71827692, ..., -0.2865488 ,\n",
              "        -1.26354211,  0.19486216]])"
            ]
          },
          "metadata": {
            "tags": []
          },
          "execution_count": 106
        }
      ]
    },
    {
      "cell_type": "code",
      "metadata": {
        "id": "D-PkDsRI6e6g",
        "colab_type": "code",
        "colab": {
          "base_uri": "https://localhost:8080/",
          "height": 238
        },
        "outputId": "654c2da8-e410-4b94-8c82-613795dfef2e"
      },
      "source": [
        "x_test"
      ],
      "execution_count": 107,
      "outputs": [
        {
          "output_type": "execute_result",
          "data": {
            "text/plain": [
              "array([[-0.20813312,  0.29431013, -0.13944326, ...,  1.35620942,\n",
              "         1.08282676,  1.50534354],\n",
              "       [-0.26189423,  1.39743106, -0.3255555 , ..., -0.83852283,\n",
              "        -0.73469319, -0.8855347 ],\n",
              "       [-0.0327021 , -0.83912914, -0.10049907, ..., -0.50397936,\n",
              "        -1.22531207, -0.92888396],\n",
              "       ...,\n",
              "       [-0.47410917,  0.14738282, -0.47600306, ..., -0.59340278,\n",
              "        -0.35079984, -0.34311323],\n",
              "       [-0.75423289, -0.7528385 , -0.77976775, ..., -0.75636222,\n",
              "        -0.08637538,  0.21209071],\n",
              "       [-0.79667588,  1.82421992, -0.83142005, ..., -1.43195543,\n",
              "        -0.08956122, -0.71936255]])"
            ]
          },
          "metadata": {
            "tags": []
          },
          "execution_count": 107
        }
      ]
    },
    {
      "cell_type": "code",
      "metadata": {
        "id": "xXwD5tNz6eZU",
        "colab_type": "code",
        "colab": {
          "base_uri": "https://localhost:8080/",
          "height": 119
        },
        "outputId": "d36b1850-fe08-434f-c930-cc3149bbb87c"
      },
      "source": [
        "pip install keras"
      ],
      "execution_count": 65,
      "outputs": [
        {
          "output_type": "stream",
          "text": [
            "Requirement already satisfied: keras in /usr/local/lib/python3.6/dist-packages (2.4.3)\n",
            "Requirement already satisfied: pyyaml in /usr/local/lib/python3.6/dist-packages (from keras) (3.13)\n",
            "Requirement already satisfied: numpy>=1.9.1 in /usr/local/lib/python3.6/dist-packages (from keras) (1.18.5)\n",
            "Requirement already satisfied: scipy>=0.14 in /usr/local/lib/python3.6/dist-packages (from keras) (1.4.1)\n",
            "Requirement already satisfied: h5py in /usr/local/lib/python3.6/dist-packages (from keras) (2.10.0)\n",
            "Requirement already satisfied: six in /usr/local/lib/python3.6/dist-packages (from h5py->keras) (1.15.0)\n"
          ],
          "name": "stdout"
        }
      ]
    },
    {
      "cell_type": "code",
      "metadata": {
        "id": "63lB-a3vC9W2",
        "colab_type": "code",
        "colab": {}
      },
      "source": [
        "import keras\n",
        "from keras.models import Sequential #Sequential is helpful for moving data from input to o/p step by step in nural network\n",
        "from keras.layers import Dense      #it helps in adding hidden layer"
      ],
      "execution_count": 108,
      "outputs": []
    },
    {
      "cell_type": "code",
      "metadata": {
        "id": "BkrpgzBaC9ZM",
        "colab_type": "code",
        "colab": {}
      },
      "source": [
        "# adding the i/p and first hidden layer\n",
        "classifier=Sequential()  #in this model we are creating ANN\n",
        "#to add layes(here we are adding layers input_dim is no of input values=30,and  here output_dim is input to hidden layer so o/p = ((i/p+final_o/p)/2)={(30+1)/2})\n",
        "#init is intial value here we are taking this as uniform distrubution,activation is type of activation function we are using\n",
        "classifier.add(Dense(units=16,kernel_initializer='random_uniform',activation='relu',input_dim=30))  \n",
        "#adding the second hidden layer(for second layer we dont need i/p because we are already having i/p(previuoes o/p))\n",
        "classifier.add(Dense(units=16,kernel_initializer='random_uniform',activation='relu'))\n",
        "#adding the o/p layer\n",
        "classifier.add(Dense(units=1,kernel_initializer='random_uniform',activation='sigmoid'))"
      ],
      "execution_count": 110,
      "outputs": []
    },
    {
      "cell_type": "code",
      "metadata": {
        "id": "xTQRHH7zmy5b",
        "colab_type": "code",
        "colab": {
          "base_uri": "https://localhost:8080/",
          "height": 119
        },
        "outputId": "a9188b47-1ece-4b28-9971-03d96959596b"
      },
      "source": [
        "pip install keras --upgrade"
      ],
      "execution_count": 74,
      "outputs": [
        {
          "output_type": "stream",
          "text": [
            "Requirement already up-to-date: keras in /usr/local/lib/python3.6/dist-packages (2.4.3)\n",
            "Requirement already satisfied, skipping upgrade: scipy>=0.14 in /usr/local/lib/python3.6/dist-packages (from keras) (1.4.1)\n",
            "Requirement already satisfied, skipping upgrade: numpy>=1.9.1 in /usr/local/lib/python3.6/dist-packages (from keras) (1.18.5)\n",
            "Requirement already satisfied, skipping upgrade: h5py in /usr/local/lib/python3.6/dist-packages (from keras) (2.10.0)\n",
            "Requirement already satisfied, skipping upgrade: pyyaml in /usr/local/lib/python3.6/dist-packages (from keras) (3.13)\n",
            "Requirement already satisfied, skipping upgrade: six in /usr/local/lib/python3.6/dist-packages (from h5py->keras) (1.15.0)\n"
          ],
          "name": "stdout"
        }
      ]
    },
    {
      "cell_type": "code",
      "metadata": {
        "id": "IIkfDAdy0uuE",
        "colab_type": "code",
        "colab": {
          "base_uri": "https://localhost:8080/",
          "height": 666
        },
        "outputId": "febc66f9-5680-4212-e496-fed95ef9f332"
      },
      "source": [
        "pip install tensorflow --upgrade"
      ],
      "execution_count": 75,
      "outputs": [
        {
          "output_type": "stream",
          "text": [
            "Requirement already up-to-date: tensorflow in /usr/local/lib/python3.6/dist-packages (2.3.0)\n",
            "Requirement already satisfied, skipping upgrade: keras-preprocessing<1.2,>=1.1.1 in /usr/local/lib/python3.6/dist-packages (from tensorflow) (1.1.2)\n",
            "Requirement already satisfied, skipping upgrade: wrapt>=1.11.1 in /usr/local/lib/python3.6/dist-packages (from tensorflow) (1.12.1)\n",
            "Requirement already satisfied, skipping upgrade: scipy==1.4.1 in /usr/local/lib/python3.6/dist-packages (from tensorflow) (1.4.1)\n",
            "Requirement already satisfied, skipping upgrade: six>=1.12.0 in /usr/local/lib/python3.6/dist-packages (from tensorflow) (1.15.0)\n",
            "Requirement already satisfied, skipping upgrade: tensorboard<3,>=2.3.0 in /usr/local/lib/python3.6/dist-packages (from tensorflow) (2.3.0)\n",
            "Requirement already satisfied, skipping upgrade: google-pasta>=0.1.8 in /usr/local/lib/python3.6/dist-packages (from tensorflow) (0.2.0)\n",
            "Requirement already satisfied, skipping upgrade: astunparse==1.6.3 in /usr/local/lib/python3.6/dist-packages (from tensorflow) (1.6.3)\n",
            "Requirement already satisfied, skipping upgrade: tensorflow-estimator<2.4.0,>=2.3.0 in /usr/local/lib/python3.6/dist-packages (from tensorflow) (2.3.0)\n",
            "Requirement already satisfied, skipping upgrade: termcolor>=1.1.0 in /usr/local/lib/python3.6/dist-packages (from tensorflow) (1.1.0)\n",
            "Requirement already satisfied, skipping upgrade: numpy<1.19.0,>=1.16.0 in /usr/local/lib/python3.6/dist-packages (from tensorflow) (1.18.5)\n",
            "Requirement already satisfied, skipping upgrade: absl-py>=0.7.0 in /usr/local/lib/python3.6/dist-packages (from tensorflow) (0.9.0)\n",
            "Requirement already satisfied, skipping upgrade: h5py<2.11.0,>=2.10.0 in /usr/local/lib/python3.6/dist-packages (from tensorflow) (2.10.0)\n",
            "Requirement already satisfied, skipping upgrade: protobuf>=3.9.2 in /usr/local/lib/python3.6/dist-packages (from tensorflow) (3.12.4)\n",
            "Requirement already satisfied, skipping upgrade: opt-einsum>=2.3.2 in /usr/local/lib/python3.6/dist-packages (from tensorflow) (3.3.0)\n",
            "Requirement already satisfied, skipping upgrade: gast==0.3.3 in /usr/local/lib/python3.6/dist-packages (from tensorflow) (0.3.3)\n",
            "Requirement already satisfied, skipping upgrade: grpcio>=1.8.6 in /usr/local/lib/python3.6/dist-packages (from tensorflow) (1.31.0)\n",
            "Requirement already satisfied, skipping upgrade: wheel>=0.26 in /usr/local/lib/python3.6/dist-packages (from tensorflow) (0.34.2)\n",
            "Requirement already satisfied, skipping upgrade: google-auth-oauthlib<0.5,>=0.4.1 in /usr/local/lib/python3.6/dist-packages (from tensorboard<3,>=2.3.0->tensorflow) (0.4.1)\n",
            "Requirement already satisfied, skipping upgrade: requests<3,>=2.21.0 in /usr/local/lib/python3.6/dist-packages (from tensorboard<3,>=2.3.0->tensorflow) (2.23.0)\n",
            "Requirement already satisfied, skipping upgrade: google-auth<2,>=1.6.3 in /usr/local/lib/python3.6/dist-packages (from tensorboard<3,>=2.3.0->tensorflow) (1.17.2)\n",
            "Requirement already satisfied, skipping upgrade: setuptools>=41.0.0 in /usr/local/lib/python3.6/dist-packages (from tensorboard<3,>=2.3.0->tensorflow) (49.2.0)\n",
            "Requirement already satisfied, skipping upgrade: tensorboard-plugin-wit>=1.6.0 in /usr/local/lib/python3.6/dist-packages (from tensorboard<3,>=2.3.0->tensorflow) (1.7.0)\n",
            "Requirement already satisfied, skipping upgrade: markdown>=2.6.8 in /usr/local/lib/python3.6/dist-packages (from tensorboard<3,>=2.3.0->tensorflow) (3.2.2)\n",
            "Requirement already satisfied, skipping upgrade: werkzeug>=0.11.15 in /usr/local/lib/python3.6/dist-packages (from tensorboard<3,>=2.3.0->tensorflow) (1.0.1)\n",
            "Requirement already satisfied, skipping upgrade: requests-oauthlib>=0.7.0 in /usr/local/lib/python3.6/dist-packages (from google-auth-oauthlib<0.5,>=0.4.1->tensorboard<3,>=2.3.0->tensorflow) (1.3.0)\n",
            "Requirement already satisfied, skipping upgrade: urllib3!=1.25.0,!=1.25.1,<1.26,>=1.21.1 in /usr/local/lib/python3.6/dist-packages (from requests<3,>=2.21.0->tensorboard<3,>=2.3.0->tensorflow) (1.24.3)\n",
            "Requirement already satisfied, skipping upgrade: idna<3,>=2.5 in /usr/local/lib/python3.6/dist-packages (from requests<3,>=2.21.0->tensorboard<3,>=2.3.0->tensorflow) (2.10)\n",
            "Requirement already satisfied, skipping upgrade: certifi>=2017.4.17 in /usr/local/lib/python3.6/dist-packages (from requests<3,>=2.21.0->tensorboard<3,>=2.3.0->tensorflow) (2020.6.20)\n",
            "Requirement already satisfied, skipping upgrade: chardet<4,>=3.0.2 in /usr/local/lib/python3.6/dist-packages (from requests<3,>=2.21.0->tensorboard<3,>=2.3.0->tensorflow) (3.0.4)\n",
            "Requirement already satisfied, skipping upgrade: pyasn1-modules>=0.2.1 in /usr/local/lib/python3.6/dist-packages (from google-auth<2,>=1.6.3->tensorboard<3,>=2.3.0->tensorflow) (0.2.8)\n",
            "Requirement already satisfied, skipping upgrade: cachetools<5.0,>=2.0.0 in /usr/local/lib/python3.6/dist-packages (from google-auth<2,>=1.6.3->tensorboard<3,>=2.3.0->tensorflow) (4.1.1)\n",
            "Requirement already satisfied, skipping upgrade: rsa<5,>=3.1.4; python_version >= \"3\" in /usr/local/lib/python3.6/dist-packages (from google-auth<2,>=1.6.3->tensorboard<3,>=2.3.0->tensorflow) (4.6)\n",
            "Requirement already satisfied, skipping upgrade: importlib-metadata; python_version < \"3.8\" in /usr/local/lib/python3.6/dist-packages (from markdown>=2.6.8->tensorboard<3,>=2.3.0->tensorflow) (1.7.0)\n",
            "Requirement already satisfied, skipping upgrade: oauthlib>=3.0.0 in /usr/local/lib/python3.6/dist-packages (from requests-oauthlib>=0.7.0->google-auth-oauthlib<0.5,>=0.4.1->tensorboard<3,>=2.3.0->tensorflow) (3.1.0)\n",
            "Requirement already satisfied, skipping upgrade: pyasn1<0.5.0,>=0.4.6 in /usr/local/lib/python3.6/dist-packages (from pyasn1-modules>=0.2.1->google-auth<2,>=1.6.3->tensorboard<3,>=2.3.0->tensorflow) (0.4.8)\n",
            "Requirement already satisfied, skipping upgrade: zipp>=0.5 in /usr/local/lib/python3.6/dist-packages (from importlib-metadata; python_version < \"3.8\"->markdown>=2.6.8->tensorboard<3,>=2.3.0->tensorflow) (3.1.0)\n"
          ],
          "name": "stdout"
        }
      ]
    },
    {
      "cell_type": "code",
      "metadata": {
        "id": "NyV2oWYyC9lq",
        "colab_type": "code",
        "colab": {}
      },
      "source": [
        "#optimaizer :-- we can adjust the value of weight(adam is type of optimaizer in stachostic methode) ,loss=it is like error which feeded back through back propagation\n",
        "#methode we have 2 o/p so we are using binary_crossentropy#from matrices we can unerstand accuracy in each step or apeque\n",
        "classifier.compile(optimizer=\"Adam\",loss=\"binary_crossentropy\",metrics=['accuracy'])"
      ],
      "execution_count": 111,
      "outputs": []
    },
    {
      "cell_type": "code",
      "metadata": {
        "id": "8owLu3zEC9VL",
        "colab_type": "code",
        "colab": {
          "base_uri": "https://localhost:8080/",
          "height": 1000
        },
        "outputId": "1a5a6877-d647-4b97-8102-5eae5b9b094d"
      },
      "source": [
        "classifier.fit(x_train,y_train,batch_size=100,epochs=150)  #at a time 100 values in bathch will get trained"
      ],
      "execution_count": 112,
      "outputs": [
        {
          "output_type": "stream",
          "text": [
            "Epoch 1/150\n",
            "6/6 [==============================] - 0s 2ms/step - loss: 0.6925 - accuracy: 0.6816\n",
            "Epoch 2/150\n",
            "6/6 [==============================] - 0s 1ms/step - loss: 0.6905 - accuracy: 0.7422\n",
            "Epoch 3/150\n",
            "6/6 [==============================] - 0s 1ms/step - loss: 0.6873 - accuracy: 0.8301\n",
            "Epoch 4/150\n",
            "6/6 [==============================] - 0s 2ms/step - loss: 0.6821 - accuracy: 0.8848\n",
            "Epoch 5/150\n",
            "6/6 [==============================] - 0s 2ms/step - loss: 0.6739 - accuracy: 0.9219\n",
            "Epoch 6/150\n",
            "6/6 [==============================] - 0s 1ms/step - loss: 0.6619 - accuracy: 0.9355\n",
            "Epoch 7/150\n",
            "6/6 [==============================] - 0s 2ms/step - loss: 0.6458 - accuracy: 0.9375\n",
            "Epoch 8/150\n",
            "6/6 [==============================] - 0s 1ms/step - loss: 0.6235 - accuracy: 0.9375\n",
            "Epoch 9/150\n",
            "6/6 [==============================] - 0s 3ms/step - loss: 0.5946 - accuracy: 0.9395\n",
            "Epoch 10/150\n",
            "6/6 [==============================] - 0s 1ms/step - loss: 0.5603 - accuracy: 0.9395\n",
            "Epoch 11/150\n",
            "6/6 [==============================] - 0s 2ms/step - loss: 0.5201 - accuracy: 0.9414\n",
            "Epoch 12/150\n",
            "6/6 [==============================] - 0s 1ms/step - loss: 0.4785 - accuracy: 0.9473\n",
            "Epoch 13/150\n",
            "6/6 [==============================] - 0s 1ms/step - loss: 0.4353 - accuracy: 0.9531\n",
            "Epoch 14/150\n",
            "6/6 [==============================] - 0s 1ms/step - loss: 0.3930 - accuracy: 0.9570\n",
            "Epoch 15/150\n",
            "6/6 [==============================] - 0s 2ms/step - loss: 0.3528 - accuracy: 0.9590\n",
            "Epoch 16/150\n",
            "6/6 [==============================] - 0s 2ms/step - loss: 0.3150 - accuracy: 0.9590\n",
            "Epoch 17/150\n",
            "6/6 [==============================] - 0s 2ms/step - loss: 0.2803 - accuracy: 0.9609\n",
            "Epoch 18/150\n",
            "6/6 [==============================] - 0s 2ms/step - loss: 0.2484 - accuracy: 0.9648\n",
            "Epoch 19/150\n",
            "6/6 [==============================] - 0s 2ms/step - loss: 0.2212 - accuracy: 0.9648\n",
            "Epoch 20/150\n",
            "6/6 [==============================] - 0s 2ms/step - loss: 0.1969 - accuracy: 0.9668\n",
            "Epoch 21/150\n",
            "6/6 [==============================] - 0s 1ms/step - loss: 0.1762 - accuracy: 0.9668\n",
            "Epoch 22/150\n",
            "6/6 [==============================] - 0s 2ms/step - loss: 0.1594 - accuracy: 0.9688\n",
            "Epoch 23/150\n",
            "6/6 [==============================] - 0s 2ms/step - loss: 0.1448 - accuracy: 0.9707\n",
            "Epoch 24/150\n",
            "6/6 [==============================] - 0s 2ms/step - loss: 0.1326 - accuracy: 0.9707\n",
            "Epoch 25/150\n",
            "6/6 [==============================] - 0s 2ms/step - loss: 0.1224 - accuracy: 0.9727\n",
            "Epoch 26/150\n",
            "6/6 [==============================] - 0s 2ms/step - loss: 0.1141 - accuracy: 0.9746\n",
            "Epoch 27/150\n",
            "6/6 [==============================] - 0s 2ms/step - loss: 0.1068 - accuracy: 0.9746\n",
            "Epoch 28/150\n",
            "6/6 [==============================] - 0s 2ms/step - loss: 0.1009 - accuracy: 0.9766\n",
            "Epoch 29/150\n",
            "6/6 [==============================] - 0s 2ms/step - loss: 0.0963 - accuracy: 0.9766\n",
            "Epoch 30/150\n",
            "6/6 [==============================] - 0s 1ms/step - loss: 0.0921 - accuracy: 0.9766\n",
            "Epoch 31/150\n",
            "6/6 [==============================] - 0s 1ms/step - loss: 0.0888 - accuracy: 0.9766\n",
            "Epoch 32/150\n",
            "6/6 [==============================] - 0s 2ms/step - loss: 0.0858 - accuracy: 0.9766\n",
            "Epoch 33/150\n",
            "6/6 [==============================] - 0s 2ms/step - loss: 0.0834 - accuracy: 0.9785\n",
            "Epoch 34/150\n",
            "6/6 [==============================] - 0s 2ms/step - loss: 0.0812 - accuracy: 0.9824\n",
            "Epoch 35/150\n",
            "6/6 [==============================] - 0s 1ms/step - loss: 0.0794 - accuracy: 0.9824\n",
            "Epoch 36/150\n",
            "6/6 [==============================] - 0s 1ms/step - loss: 0.0776 - accuracy: 0.9805\n",
            "Epoch 37/150\n",
            "6/6 [==============================] - 0s 2ms/step - loss: 0.0761 - accuracy: 0.9805\n",
            "Epoch 38/150\n",
            "6/6 [==============================] - 0s 1ms/step - loss: 0.0748 - accuracy: 0.9805\n",
            "Epoch 39/150\n",
            "6/6 [==============================] - 0s 1ms/step - loss: 0.0734 - accuracy: 0.9805\n",
            "Epoch 40/150\n",
            "6/6 [==============================] - 0s 1ms/step - loss: 0.0720 - accuracy: 0.9824\n",
            "Epoch 41/150\n",
            "6/6 [==============================] - 0s 2ms/step - loss: 0.0707 - accuracy: 0.9824\n",
            "Epoch 42/150\n",
            "6/6 [==============================] - 0s 2ms/step - loss: 0.0695 - accuracy: 0.9824\n",
            "Epoch 43/150\n",
            "6/6 [==============================] - 0s 2ms/step - loss: 0.0683 - accuracy: 0.9844\n",
            "Epoch 44/150\n",
            "6/6 [==============================] - 0s 2ms/step - loss: 0.0673 - accuracy: 0.9844\n",
            "Epoch 45/150\n",
            "6/6 [==============================] - 0s 1ms/step - loss: 0.0664 - accuracy: 0.9844\n",
            "Epoch 46/150\n",
            "6/6 [==============================] - 0s 1ms/step - loss: 0.0657 - accuracy: 0.9844\n",
            "Epoch 47/150\n",
            "6/6 [==============================] - 0s 2ms/step - loss: 0.0649 - accuracy: 0.9824\n",
            "Epoch 48/150\n",
            "6/6 [==============================] - 0s 2ms/step - loss: 0.0640 - accuracy: 0.9824\n",
            "Epoch 49/150\n",
            "6/6 [==============================] - 0s 1ms/step - loss: 0.0632 - accuracy: 0.9844\n",
            "Epoch 50/150\n",
            "6/6 [==============================] - 0s 1ms/step - loss: 0.0626 - accuracy: 0.9844\n",
            "Epoch 51/150\n",
            "6/6 [==============================] - 0s 1ms/step - loss: 0.0618 - accuracy: 0.9844\n",
            "Epoch 52/150\n",
            "6/6 [==============================] - 0s 1ms/step - loss: 0.0612 - accuracy: 0.9844\n",
            "Epoch 53/150\n",
            "6/6 [==============================] - 0s 2ms/step - loss: 0.0606 - accuracy: 0.9863\n",
            "Epoch 54/150\n",
            "6/6 [==============================] - 0s 2ms/step - loss: 0.0599 - accuracy: 0.9863\n",
            "Epoch 55/150\n",
            "6/6 [==============================] - 0s 2ms/step - loss: 0.0594 - accuracy: 0.9863\n",
            "Epoch 56/150\n",
            "6/6 [==============================] - 0s 1ms/step - loss: 0.0589 - accuracy: 0.9863\n",
            "Epoch 57/150\n",
            "6/6 [==============================] - 0s 1ms/step - loss: 0.0583 - accuracy: 0.9863\n",
            "Epoch 58/150\n",
            "6/6 [==============================] - 0s 2ms/step - loss: 0.0578 - accuracy: 0.9863\n",
            "Epoch 59/150\n",
            "6/6 [==============================] - 0s 2ms/step - loss: 0.0572 - accuracy: 0.9863\n",
            "Epoch 60/150\n",
            "6/6 [==============================] - 0s 2ms/step - loss: 0.0567 - accuracy: 0.9844\n",
            "Epoch 61/150\n",
            "6/6 [==============================] - 0s 2ms/step - loss: 0.0564 - accuracy: 0.9844\n",
            "Epoch 62/150\n",
            "6/6 [==============================] - 0s 2ms/step - loss: 0.0560 - accuracy: 0.9844\n",
            "Epoch 63/150\n",
            "6/6 [==============================] - 0s 2ms/step - loss: 0.0556 - accuracy: 0.9844\n",
            "Epoch 64/150\n",
            "6/6 [==============================] - 0s 2ms/step - loss: 0.0553 - accuracy: 0.9844\n",
            "Epoch 65/150\n",
            "6/6 [==============================] - 0s 2ms/step - loss: 0.0548 - accuracy: 0.9844\n",
            "Epoch 66/150\n",
            "6/6 [==============================] - 0s 2ms/step - loss: 0.0544 - accuracy: 0.9844\n",
            "Epoch 67/150\n",
            "6/6 [==============================] - 0s 2ms/step - loss: 0.0542 - accuracy: 0.9844\n",
            "Epoch 68/150\n",
            "6/6 [==============================] - 0s 2ms/step - loss: 0.0538 - accuracy: 0.9844\n",
            "Epoch 69/150\n",
            "6/6 [==============================] - 0s 2ms/step - loss: 0.0534 - accuracy: 0.9844\n",
            "Epoch 70/150\n",
            "6/6 [==============================] - 0s 2ms/step - loss: 0.0527 - accuracy: 0.9844\n",
            "Epoch 71/150\n",
            "6/6 [==============================] - 0s 2ms/step - loss: 0.0523 - accuracy: 0.9863\n",
            "Epoch 72/150\n",
            "6/6 [==============================] - 0s 2ms/step - loss: 0.0522 - accuracy: 0.9863\n",
            "Epoch 73/150\n",
            "6/6 [==============================] - 0s 2ms/step - loss: 0.0519 - accuracy: 0.9863\n",
            "Epoch 74/150\n",
            "6/6 [==============================] - 0s 2ms/step - loss: 0.0514 - accuracy: 0.9863\n",
            "Epoch 75/150\n",
            "6/6 [==============================] - 0s 2ms/step - loss: 0.0510 - accuracy: 0.9863\n",
            "Epoch 76/150\n",
            "6/6 [==============================] - 0s 2ms/step - loss: 0.0507 - accuracy: 0.9863\n",
            "Epoch 77/150\n",
            "6/6 [==============================] - 0s 2ms/step - loss: 0.0503 - accuracy: 0.9863\n",
            "Epoch 78/150\n",
            "6/6 [==============================] - 0s 2ms/step - loss: 0.0500 - accuracy: 0.9863\n",
            "Epoch 79/150\n",
            "6/6 [==============================] - 0s 3ms/step - loss: 0.0495 - accuracy: 0.9863\n",
            "Epoch 80/150\n",
            "6/6 [==============================] - 0s 2ms/step - loss: 0.0493 - accuracy: 0.9863\n",
            "Epoch 81/150\n",
            "6/6 [==============================] - 0s 2ms/step - loss: 0.0487 - accuracy: 0.9863\n",
            "Epoch 82/150\n",
            "6/6 [==============================] - 0s 2ms/step - loss: 0.0484 - accuracy: 0.9863\n",
            "Epoch 83/150\n",
            "6/6 [==============================] - 0s 1ms/step - loss: 0.0480 - accuracy: 0.9863\n",
            "Epoch 84/150\n",
            "6/6 [==============================] - 0s 2ms/step - loss: 0.0474 - accuracy: 0.9863\n",
            "Epoch 85/150\n",
            "6/6 [==============================] - 0s 2ms/step - loss: 0.0474 - accuracy: 0.9844\n",
            "Epoch 86/150\n",
            "6/6 [==============================] - 0s 2ms/step - loss: 0.0472 - accuracy: 0.9863\n",
            "Epoch 87/150\n",
            "6/6 [==============================] - 0s 2ms/step - loss: 0.0469 - accuracy: 0.9863\n",
            "Epoch 88/150\n",
            "6/6 [==============================] - 0s 1ms/step - loss: 0.0465 - accuracy: 0.9863\n",
            "Epoch 89/150\n",
            "6/6 [==============================] - 0s 2ms/step - loss: 0.0461 - accuracy: 0.9863\n",
            "Epoch 90/150\n",
            "6/6 [==============================] - 0s 2ms/step - loss: 0.0456 - accuracy: 0.9883\n",
            "Epoch 91/150\n",
            "6/6 [==============================] - 0s 1ms/step - loss: 0.0453 - accuracy: 0.9902\n",
            "Epoch 92/150\n",
            "6/6 [==============================] - 0s 2ms/step - loss: 0.0450 - accuracy: 0.9902\n",
            "Epoch 93/150\n",
            "6/6 [==============================] - 0s 2ms/step - loss: 0.0445 - accuracy: 0.9902\n",
            "Epoch 94/150\n",
            "6/6 [==============================] - 0s 2ms/step - loss: 0.0442 - accuracy: 0.9883\n",
            "Epoch 95/150\n",
            "6/6 [==============================] - 0s 2ms/step - loss: 0.0439 - accuracy: 0.9902\n",
            "Epoch 96/150\n",
            "6/6 [==============================] - 0s 2ms/step - loss: 0.0438 - accuracy: 0.9922\n",
            "Epoch 97/150\n",
            "6/6 [==============================] - 0s 2ms/step - loss: 0.0436 - accuracy: 0.9922\n",
            "Epoch 98/150\n",
            "6/6 [==============================] - 0s 2ms/step - loss: 0.0431 - accuracy: 0.9922\n",
            "Epoch 99/150\n",
            "6/6 [==============================] - 0s 2ms/step - loss: 0.0425 - accuracy: 0.9922\n",
            "Epoch 100/150\n",
            "6/6 [==============================] - 0s 2ms/step - loss: 0.0425 - accuracy: 0.9902\n",
            "Epoch 101/150\n",
            "6/6 [==============================] - 0s 2ms/step - loss: 0.0423 - accuracy: 0.9902\n",
            "Epoch 102/150\n",
            "6/6 [==============================] - 0s 2ms/step - loss: 0.0421 - accuracy: 0.9902\n",
            "Epoch 103/150\n",
            "6/6 [==============================] - 0s 2ms/step - loss: 0.0418 - accuracy: 0.9902\n",
            "Epoch 104/150\n",
            "6/6 [==============================] - 0s 1ms/step - loss: 0.0415 - accuracy: 0.9902\n",
            "Epoch 105/150\n",
            "6/6 [==============================] - 0s 2ms/step - loss: 0.0411 - accuracy: 0.9922\n",
            "Epoch 106/150\n",
            "6/6 [==============================] - 0s 2ms/step - loss: 0.0410 - accuracy: 0.9922\n",
            "Epoch 107/150\n",
            "6/6 [==============================] - 0s 2ms/step - loss: 0.0406 - accuracy: 0.9922\n",
            "Epoch 108/150\n",
            "6/6 [==============================] - 0s 2ms/step - loss: 0.0404 - accuracy: 0.9922\n",
            "Epoch 109/150\n",
            "6/6 [==============================] - 0s 2ms/step - loss: 0.0401 - accuracy: 0.9922\n",
            "Epoch 110/150\n",
            "6/6 [==============================] - 0s 1ms/step - loss: 0.0399 - accuracy: 0.9922\n",
            "Epoch 111/150\n",
            "6/6 [==============================] - 0s 2ms/step - loss: 0.0397 - accuracy: 0.9922\n",
            "Epoch 112/150\n",
            "6/6 [==============================] - 0s 1ms/step - loss: 0.0394 - accuracy: 0.9922\n",
            "Epoch 113/150\n",
            "6/6 [==============================] - 0s 2ms/step - loss: 0.0392 - accuracy: 0.9922\n",
            "Epoch 114/150\n",
            "6/6 [==============================] - 0s 2ms/step - loss: 0.0387 - accuracy: 0.9922\n",
            "Epoch 115/150\n",
            "6/6 [==============================] - 0s 2ms/step - loss: 0.0388 - accuracy: 0.9922\n",
            "Epoch 116/150\n",
            "6/6 [==============================] - 0s 1ms/step - loss: 0.0385 - accuracy: 0.9922\n",
            "Epoch 117/150\n",
            "6/6 [==============================] - 0s 2ms/step - loss: 0.0383 - accuracy: 0.9922\n",
            "Epoch 118/150\n",
            "6/6 [==============================] - 0s 2ms/step - loss: 0.0381 - accuracy: 0.9922\n",
            "Epoch 119/150\n",
            "6/6 [==============================] - 0s 1ms/step - loss: 0.0377 - accuracy: 0.9922\n",
            "Epoch 120/150\n",
            "6/6 [==============================] - 0s 2ms/step - loss: 0.0377 - accuracy: 0.9922\n",
            "Epoch 121/150\n",
            "6/6 [==============================] - 0s 2ms/step - loss: 0.0375 - accuracy: 0.9922\n",
            "Epoch 122/150\n",
            "6/6 [==============================] - 0s 2ms/step - loss: 0.0372 - accuracy: 0.9922\n",
            "Epoch 123/150\n",
            "6/6 [==============================] - 0s 1ms/step - loss: 0.0369 - accuracy: 0.9922\n",
            "Epoch 124/150\n",
            "6/6 [==============================] - 0s 1ms/step - loss: 0.0366 - accuracy: 0.9922\n",
            "Epoch 125/150\n",
            "6/6 [==============================] - 0s 2ms/step - loss: 0.0363 - accuracy: 0.9922\n",
            "Epoch 126/150\n",
            "6/6 [==============================] - 0s 2ms/step - loss: 0.0361 - accuracy: 0.9922\n",
            "Epoch 127/150\n",
            "6/6 [==============================] - 0s 2ms/step - loss: 0.0358 - accuracy: 0.9922\n",
            "Epoch 128/150\n",
            "6/6 [==============================] - 0s 2ms/step - loss: 0.0356 - accuracy: 0.9922\n",
            "Epoch 129/150\n",
            "6/6 [==============================] - 0s 2ms/step - loss: 0.0353 - accuracy: 0.9922\n",
            "Epoch 130/150\n",
            "6/6 [==============================] - 0s 1ms/step - loss: 0.0353 - accuracy: 0.9922\n",
            "Epoch 131/150\n",
            "6/6 [==============================] - 0s 1ms/step - loss: 0.0350 - accuracy: 0.9922\n",
            "Epoch 132/150\n",
            "6/6 [==============================] - 0s 2ms/step - loss: 0.0347 - accuracy: 0.9922\n",
            "Epoch 133/150\n",
            "6/6 [==============================] - 0s 2ms/step - loss: 0.0345 - accuracy: 0.9922\n",
            "Epoch 134/150\n",
            "6/6 [==============================] - 0s 2ms/step - loss: 0.0342 - accuracy: 0.9922\n",
            "Epoch 135/150\n",
            "6/6 [==============================] - 0s 2ms/step - loss: 0.0340 - accuracy: 0.9922\n",
            "Epoch 136/150\n",
            "6/6 [==============================] - 0s 2ms/step - loss: 0.0338 - accuracy: 0.9922\n",
            "Epoch 137/150\n",
            "6/6 [==============================] - 0s 2ms/step - loss: 0.0336 - accuracy: 0.9922\n",
            "Epoch 138/150\n",
            "6/6 [==============================] - 0s 2ms/step - loss: 0.0334 - accuracy: 0.9922\n",
            "Epoch 139/150\n",
            "6/6 [==============================] - 0s 1ms/step - loss: 0.0332 - accuracy: 0.9922\n",
            "Epoch 140/150\n",
            "6/6 [==============================] - 0s 1ms/step - loss: 0.0329 - accuracy: 0.9922\n",
            "Epoch 141/150\n",
            "6/6 [==============================] - 0s 1ms/step - loss: 0.0328 - accuracy: 0.9922\n",
            "Epoch 142/150\n",
            "6/6 [==============================] - 0s 2ms/step - loss: 0.0326 - accuracy: 0.9922\n",
            "Epoch 143/150\n",
            "6/6 [==============================] - 0s 2ms/step - loss: 0.0324 - accuracy: 0.9922\n",
            "Epoch 144/150\n",
            "6/6 [==============================] - 0s 2ms/step - loss: 0.0322 - accuracy: 0.9922\n",
            "Epoch 145/150\n",
            "6/6 [==============================] - 0s 2ms/step - loss: 0.0321 - accuracy: 0.9922\n",
            "Epoch 146/150\n",
            "6/6 [==============================] - 0s 2ms/step - loss: 0.0319 - accuracy: 0.9922\n",
            "Epoch 147/150\n",
            "6/6 [==============================] - 0s 2ms/step - loss: 0.0318 - accuracy: 0.9922\n",
            "Epoch 148/150\n",
            "6/6 [==============================] - 0s 2ms/step - loss: 0.0316 - accuracy: 0.9922\n",
            "Epoch 149/150\n",
            "6/6 [==============================] - 0s 1ms/step - loss: 0.0313 - accuracy: 0.9922\n",
            "Epoch 150/150\n",
            "6/6 [==============================] - 0s 2ms/step - loss: 0.0309 - accuracy: 0.9922\n"
          ],
          "name": "stdout"
        },
        {
          "output_type": "execute_result",
          "data": {
            "text/plain": [
              "<tensorflow.python.keras.callbacks.History at 0x7f8502dc2c18>"
            ]
          },
          "metadata": {
            "tags": []
          },
          "execution_count": 112
        }
      ]
    },
    {
      "cell_type": "code",
      "metadata": {
        "id": "GmybpT7Vjzx4",
        "colab_type": "code",
        "colab": {
          "base_uri": "https://localhost:8080/",
          "height": 238
        },
        "outputId": "87a9e138-f31e-488b-8a1a-422b7f9aff70"
      },
      "source": [
        "x_test"
      ],
      "execution_count": 113,
      "outputs": [
        {
          "output_type": "execute_result",
          "data": {
            "text/plain": [
              "array([[-0.20813312,  0.29431013, -0.13944326, ...,  1.35620942,\n",
              "         1.08282676,  1.50534354],\n",
              "       [-0.26189423,  1.39743106, -0.3255555 , ..., -0.83852283,\n",
              "        -0.73469319, -0.8855347 ],\n",
              "       [-0.0327021 , -0.83912914, -0.10049907, ..., -0.50397936,\n",
              "        -1.22531207, -0.92888396],\n",
              "       ...,\n",
              "       [-0.47410917,  0.14738282, -0.47600306, ..., -0.59340278,\n",
              "        -0.35079984, -0.34311323],\n",
              "       [-0.75423289, -0.7528385 , -0.77976775, ..., -0.75636222,\n",
              "        -0.08637538,  0.21209071],\n",
              "       [-0.79667588,  1.82421992, -0.83142005, ..., -1.43195543,\n",
              "        -0.08956122, -0.71936255]])"
            ]
          },
          "metadata": {
            "tags": []
          },
          "execution_count": 113
        }
      ]
    },
    {
      "cell_type": "code",
      "metadata": {
        "id": "toX3qNEjAoA8",
        "colab_type": "code",
        "colab": {}
      },
      "source": [
        "#predicting the test set results \n",
        "y_pred=classifier.predict(x_test)\n",
        "y_pred=(y_pred>0.5)"
      ],
      "execution_count": 114,
      "outputs": []
    },
    {
      "cell_type": "code",
      "metadata": {
        "id": "usWTzYmUASpq",
        "colab_type": "code",
        "colab": {}
      },
      "source": [
        "#making the confusion matrix were we can measure accuracy quit well \n",
        "from sklearn.metrics import confusion_matrix\n",
        "cm=confusion_matrix(y_test,y_pred)"
      ],
      "execution_count": 115,
      "outputs": []
    },
    {
      "cell_type": "code",
      "metadata": {
        "id": "FzpAzKvZASuA",
        "colab_type": "code",
        "colab": {
          "base_uri": "https://localhost:8080/",
          "height": 265
        },
        "outputId": "44f64bc5-f174-4385-aa27-44f5515d2762"
      },
      "source": [
        "sns.heatmap(cm,annot=True)\n",
        "plt.savefig('h.png')    #right prediction =34+22 wrong prediction=1"
      ],
      "execution_count": 116,
      "outputs": [
        {
          "output_type": "display_data",
          "data": {
            "image/png": "[encoded data removed]",
            "text/plain": [
              "<Figure size 432x288 with 2 Axes>"
            ]
          },
          "metadata": {
            "tags": [],
            "needs_background": "light"
          }
        }
      ]
    },
    {
      "cell_type": "code",
      "metadata": {
        "id": "h6iWOY1rASyE",
        "colab_type": "code",
        "colab": {}
      },
      "source": [
        ""
      ],
      "execution_count": null,
      "outputs": []
    },
    {
      "cell_type": "code",
      "metadata": {
        "id": "UoYliZVmAS80",
        "colab_type": "code",
        "colab": {}
      },
      "source": [
        ""
      ],
      "execution_count": null,
      "outputs": []
    },
    {
      "cell_type": "code",
      "metadata": {
        "id": "A9FIHW_RATQT",
        "colab_type": "code",
        "colab": {}
      },
      "source": [
        ""
      ],
      "execution_count": null,
      "outputs": []
    },
    {
      "cell_type": "code",
      "metadata": {
        "id": "VWEq9YkhATdm",
        "colab_type": "code",
        "colab": {}
      },
      "source": [
        ""
      ],
      "execution_count": null,
      "outputs": []
    },
    {
      "cell_type": "code",
      "metadata": {
        "id": "Y2ebdxYJASoF",
        "colab_type": "code",
        "colab": {}
      },
      "source": [
        ""
      ],
      "execution_count": null,
      "outputs": []
    }
  ]
}